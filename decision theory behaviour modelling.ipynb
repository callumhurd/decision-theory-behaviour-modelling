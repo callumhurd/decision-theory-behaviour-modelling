{
 "cells": [
  {
   "cell_type": "markdown",
   "id": "65c26e75",
   "metadata": {},
   "source": [
    "# Psychology Modelling in Roulette"
   ]
  },
  {
   "cell_type": "markdown",
   "id": "79e2b1bb",
   "metadata": {},
   "source": [
    "In this project i wish to discuss modelling the behaviours of different types of people given the value they place on money. In general, it is accepted that rich people place less value on money, since they have more of it. This in turn makes them more risk prone. The opposite applies to people who are poor. Decision theory provides us with a powerful tool in utility functions which allow us to model the risk attitude of different people with a function that is pre defined. We will delve into this in a bit more depth later onbut first we need to get started with defining the actual game of roulette."
   ]
  },
  {
   "cell_type": "code",
   "execution_count": 3,
   "id": "69363f67",
   "metadata": {},
   "outputs": [],
   "source": [
    "import numpy as np\n",
    "import random\n",
    "import pandas as pd"
   ]
  },
  {
   "cell_type": "markdown",
   "id": "55d6507c",
   "metadata": {},
   "source": [
    "These are the libraries which we use throughout so we import them first"
   ]
  },
  {
   "cell_type": "markdown",
   "id": "ce8f90a2",
   "metadata": {},
   "source": [
    "## Creating The Roulette Class"
   ]
  },
  {
   "cell_type": "markdown",
   "id": "3108b7ac",
   "metadata": {},
   "source": [
    "In order to create the game of roulette, we define a class with different properties, for example the numbers in red are defined as a property and so on. Within this class we define both European roulette and American roulette."
   ]
  },
  {
   "cell_type": "code",
   "execution_count": 4,
   "id": "8d2d83c0",
   "metadata": {},
   "outputs": [],
   "source": [
    "class roulette_tables:\n",
    "    def __init__(self, numbers_list):\n",
    "        self.numbers_list=numbers_list\n",
    "        self.red=[1,3,5,7,9,12,14,16,18,21,23,25,27,28,30,32,34,36]\n",
    "        self.black=[2,4,6,8,11,15,17,20,29,22,24,26,29,31,33,35]\n",
    "        self.green= [value for value in numbers_list if isinstance(value,str)]\n",
    "        self.odd= [x for x in numbers_list if isinstance(x,int) and x%2!=0]\n",
    "        self.even=[x for x in numbers_list if isinstance(x,int) and x%2==0]\n",
    "        self.first_twelve=[1,2,3,4,5,6,7,8,9,10,11,12]\n",
    "        self.second_twelve=[13, 14, 15, 16, 17, 18, 19, 20, 21, 22, 23, 24]\n",
    "        self.third_twelve=[25, 26, 27, 28, 29, 30, 31, 32, 33, 34, 35, 36]\n",
    "        self.one_eighteen=[1, 2, 3, 4, 5, 6, 7, 8, 9, 10, 11, 12, 13, 14, 15, 16, 17, 18]\n",
    "        self.nineteen_thirtysix=[19, 20, 21, 22, 23, 24, 25, 26, 27, 28, 29, 30, 31, 32, 33, 34, 35, 36]\n",
    "\n",
    "    def spin(self):\n",
    "        number_outcome=np.random.randint(0,len(self.numbers_list))\n",
    "        return(self.numbers_list[number_outcome])\n",
    "    \n",
    "    def show_odds(self):\n",
    "        odds= {\n",
    "    'Bet': ['Single Number', 'Odd/Even', 'Red/Black', 'Dozens'],\n",
    "    'European probabilities': [1/37, 18/37, 18/37, 12/37],\n",
    "    'American probabilities':[1/38,18/38,18/38,12/38],\n",
    "    'payouts':[35,2,2,3]\n",
    "        }\n",
    "        odds=pd.DataFrame(odds)\n",
    "        return(odds)\n",
    "    \n",
    "            \n",
    "European_roulette=roulette_tables(['0',1,2,3,4,5,6,7,8,9,10,11,12,13,14,15,16,17,18,19,20,21,22,23,24,25,26,27,28,29,30,31,32,33,34,35,36])\n",
    "American_roulette=roulette_tables(['00','0',1,2,3,4,5,6,7,8,9,10,11,12,13,14,15,16,17,18,19,20,21,22,23,24,25,26,27,28,29,30,31,32,33,34,35,36])\n",
    "    "
   ]
  },
  {
   "cell_type": "markdown",
   "id": "f349a5b4",
   "metadata": {},
   "source": [
    "You will notice that the majority of the properties are hardcoded, which makes sense given the finite nature of the properties. Doing it this way may have taken longer to code but it will speed up the running of the code when using the functions we define later."
   ]
  },
  {
   "cell_type": "markdown",
   "id": "2358f926",
   "metadata": {},
   "source": [
    "If you look closely, you will see that i have also defined methods inside the roulette class, namely the spin method, and the show_odds method. These 'do exactly what they say on the tin' for lack of a better way to describe it and they are demonstrated below."
   ]
  },
  {
   "cell_type": "code",
   "execution_count": 3,
   "id": "e5499b87",
   "metadata": {},
   "outputs": [
    {
     "data": {
      "text/plain": [
       "12"
      ]
     },
     "execution_count": 3,
     "metadata": {},
     "output_type": "execute_result"
    }
   ],
   "source": [
    "European_roulette.spin()"
   ]
  },
  {
   "cell_type": "code",
   "execution_count": 4,
   "id": "1b04bc29",
   "metadata": {},
   "outputs": [
    {
     "data": {
      "text/plain": [
       "4"
      ]
     },
     "execution_count": 4,
     "metadata": {},
     "output_type": "execute_result"
    }
   ],
   "source": [
    "American_roulette.spin()"
   ]
  },
  {
   "cell_type": "code",
   "execution_count": 5,
   "id": "e0de894c",
   "metadata": {},
   "outputs": [
    {
     "data": {
      "text/html": [
       "<div>\n",
       "<style scoped>\n",
       "    .dataframe tbody tr th:only-of-type {\n",
       "        vertical-align: middle;\n",
       "    }\n",
       "\n",
       "    .dataframe tbody tr th {\n",
       "        vertical-align: top;\n",
       "    }\n",
       "\n",
       "    .dataframe thead th {\n",
       "        text-align: right;\n",
       "    }\n",
       "</style>\n",
       "<table border=\"1\" class=\"dataframe\">\n",
       "  <thead>\n",
       "    <tr style=\"text-align: right;\">\n",
       "      <th></th>\n",
       "      <th>Bet</th>\n",
       "      <th>European probabilities</th>\n",
       "      <th>American probabilities</th>\n",
       "      <th>payouts</th>\n",
       "    </tr>\n",
       "  </thead>\n",
       "  <tbody>\n",
       "    <tr>\n",
       "      <th>0</th>\n",
       "      <td>Single Number</td>\n",
       "      <td>0.027027</td>\n",
       "      <td>0.026316</td>\n",
       "      <td>35</td>\n",
       "    </tr>\n",
       "    <tr>\n",
       "      <th>1</th>\n",
       "      <td>Odd/Even</td>\n",
       "      <td>0.486486</td>\n",
       "      <td>0.473684</td>\n",
       "      <td>2</td>\n",
       "    </tr>\n",
       "    <tr>\n",
       "      <th>2</th>\n",
       "      <td>Red/Black</td>\n",
       "      <td>0.486486</td>\n",
       "      <td>0.473684</td>\n",
       "      <td>2</td>\n",
       "    </tr>\n",
       "    <tr>\n",
       "      <th>3</th>\n",
       "      <td>Dozens</td>\n",
       "      <td>0.324324</td>\n",
       "      <td>0.315789</td>\n",
       "      <td>3</td>\n",
       "    </tr>\n",
       "  </tbody>\n",
       "</table>\n",
       "</div>"
      ],
      "text/plain": [
       "             Bet  European probabilities  American probabilities  payouts\n",
       "0  Single Number                0.027027                0.026316       35\n",
       "1       Odd/Even                0.486486                0.473684        2\n",
       "2      Red/Black                0.486486                0.473684        2\n",
       "3         Dozens                0.324324                0.315789        3"
      ]
     },
     "execution_count": 5,
     "metadata": {},
     "output_type": "execute_result"
    }
   ],
   "source": [
    "European_roulette.show_odds()"
   ]
  },
  {
   "cell_type": "markdown",
   "id": "f175cda8",
   "metadata": {},
   "source": [
    "We make use of the pandas dataframe to aesthetically display the data that we want, for ease of access both European_roulette.show_odds() and American_roulette.show_odds() provide the same dataframe."
   ]
  },
  {
   "cell_type": "markdown",
   "id": "1a825534",
   "metadata": {},
   "source": [
    "Inspecting the data inside the table, it is clear to see you would be better off playing european roulette due to the fact that for every bet, the european roulette has a better chance of winning with the exact same payout as the american roulette"
   ]
  },
  {
   "cell_type": "markdown",
   "id": "be02788f",
   "metadata": {},
   "source": [
    "## Beginning to Model Some Behaviour "
   ]
  },
  {
   "cell_type": "markdown",
   "id": "415e3367",
   "metadata": {},
   "source": [
    "In this section we essentially want to begin modelling the behaviour of people by creating a class with different attributes and methods that are relevant to our goal of roulette and behaviour modelling. You will see that we have used lambda functions to define an utility function as an attribute for the person class, alongside the method of calculating the utility they have for a set of gambles."
   ]
  },
  {
   "cell_type": "markdown",
   "id": "2f52b7cf",
   "metadata": {},
   "source": [
    "In decision theory, if you have the utility function of a person then you can calculate the utility of that gamble to the person. The higher the utility is the better the person regards that gamble. For instance if someone asked you to decide to either flip a coin for £10 (take gamble g1) or get £5 gauranteed (gamble g2) and your utility function was U(£x)=x then U(g1)=U(g2)= 0/2 + 10/2 = 5"
   ]
  },
  {
   "cell_type": "markdown",
   "id": "cb6c134f",
   "metadata": {},
   "source": [
    "In our model we describe a rich person as a person with a convex utility function, a risk neutral person as a person with the utility function U(£x)=x (linear) and a risk averse person as someone with a concave utility function. For interest and some comedic effect we have also modelled a fourth person whomst you may be familair with and will be introduced to later if you read on."
   ]
  },
  {
   "cell_type": "markdown",
   "id": "8e60a618",
   "metadata": {},
   "source": [
    "Below is the following class which models a persons behaviour and allows them to play roulette either once or n times."
   ]
  },
  {
   "cell_type": "code",
   "execution_count": 5,
   "id": "6bc104ac",
   "metadata": {},
   "outputs": [],
   "source": [
    "class people:\n",
    "    def __init__(self, utility_function,initialportfolio,max_bet_at_once):\n",
    "        self.utility_function=utility_function\n",
    "        self.initialportfolio=initialportfolio\n",
    "        self.max_bet_at_once=max_bet_at_once\n",
    "    \n",
    "    def calc_utility(self,table,Amount_to_bet):\n",
    "        if table == European_roulette:\n",
    "            list_of_potential_earnings=Amount_to_bet*(table.show_odds()['payouts'].values)\n",
    "            X=list(map(self.utility_function, list_of_potential_earnings))\n",
    "            list_of_gamble_utilities=X*(table.show_odds()['European probabilities'].values)\n",
    "            return pd.DataFrame({'Gambles':table.show_odds()['Bet'] , 'utility': list_of_gamble_utilities})\n",
    "        else:\n",
    "            list_of_potential_earnings=Amount_to_bet*(table.show_odds()['payouts'].values)\n",
    "            X=list(map(self.utility_function, list_of_potential_earnings))\n",
    "            list_of_gamble_utilities=X*(table.show_odds()['American probabilities'].values)\n",
    "            return pd.DataFrame({'Gambles':table.show_odds()['Bet'] , 'utility': list_of_gamble_utilities})\n",
    "    \n",
    "    def Play_single_game(self,table,portfolio):\n",
    "        portfolio=portfolio\n",
    "        initial_portfolio=portfolio\n",
    "        Amount_to_bet=min(0.01*portfolio, self.max_bet_at_once)\n",
    "        vect_of_utilities=self.calc_utility(table, Amount_to_bet)\n",
    "        index_of_best_decision=vect_of_utilities['utility'].idxmax()\n",
    "        gambledecision=table.show_odds()['Bet'][index_of_best_decision]\n",
    "        if gambledecision=='Single Number':\n",
    "            final_value_decision=table.spin()\n",
    "        elif gambledecision=='Odd/Even':\n",
    "            final_value_decision=random.choice(['odd','even'])\n",
    "        elif gambledecision=='Red/Black':\n",
    "            final_value_decision=random.choice(['red','black'])\n",
    "        elif gambledecision=='Dozens':\n",
    "            final_value_decision=random.choice(['first_twelve','second_twelve','third_twelve'])\n",
    "        \n",
    "        outcome=table.spin()\n",
    "        if final_value_decision in ('odd','even'):\n",
    "            if final_value_decision=='odd':\n",
    "                if outcome in table.odd:\n",
    "                    initial_portfolio=portfolio\n",
    "                    portfolio += Amount_to_bet\n",
    "                    win='WINNER :)'\n",
    "                else:\n",
    "                    initial_portfolio=portfolio\n",
    "                    portfolio -= Amount_to_bet\n",
    "                    win='LOSER :('\n",
    "                return pd.DataFrame({'outcome': [win], 'winnings': [portfolio-initial_portfolio], 'portfolio':[portfolio]}) \n",
    "            else:\n",
    "                if outcome in table.even:\n",
    "                     initial_portfolio=portfolio\n",
    "                     portfolio += Amount_to_bet\n",
    "                     win='WINNER :)'\n",
    "                else:\n",
    "                     initial_portfolio=portfolio\n",
    "                     portfolio -= Amount_to_bet\n",
    "                     win='LOSER :('  \n",
    "                return pd.DataFrame({'outcome': [win], 'winnings': [portfolio-initial_portfolio],'portfolio':[portfolio]}) \n",
    "                     \n",
    "        if final_value_decision in ('red','black'):\n",
    "            if final_value_decision=='red':\n",
    "                if outcome in table.red:\n",
    "                    initial_portfolio=portfolio\n",
    "                    portfolio += Amount_to_bet\n",
    "                    win='WINNER :)'\n",
    "                    \n",
    "                else:\n",
    "                    initial_portfolio=portfolio\n",
    "                    portfolio -= Amount_to_bet\n",
    "                    win='LOSER :('\n",
    "                    \n",
    "                return pd.DataFrame({'outcome': [win], 'winnings': [portfolio-initial_portfolio],'portfolio':[portfolio]}) \n",
    "            else:\n",
    "                if outcome in table.black:\n",
    "                     initial_portfolio=portfolio\n",
    "                     portfolio += Amount_to_bet\n",
    "                     win='WINNER :)'\n",
    "                     \n",
    "                else:\n",
    "                     initial_portfolio=portfolio\n",
    "                     portfolio -= Amount_to_bet\n",
    "                     win='LOSER :('\n",
    "                     \n",
    "                return pd.DataFrame({'outcome': [win], 'winnings': [portfolio-initial_portfolio],'portfolio':[portfolio]}) \n",
    "                  \n",
    "        if final_value_decision in ( 'first_twelve' , 'second_twelve' , 'third_twelve' ):\n",
    "            if final_value_decision=='first_twelve':\n",
    "                if outcome in table.first_twelve:\n",
    "                    initial_portfolio=portfolio\n",
    "                    portfolio += 3*Amount_to_bet\n",
    "                    win='WINNER :)'\n",
    "                    \n",
    "                else:\n",
    "                    initial_portfolio=portfolio\n",
    "                    portfolio -= Amount_to_bet\n",
    "                    win='LOSER :('\n",
    "                    \n",
    "                return pd.DataFrame({'outcome': [win], 'winnings': [portfolio-initial_portfolio], 'portfolio':[portfolio]}) \n",
    "            elif final_value_decision=='second_twelve':\n",
    "                if outcome in table.second_twelve:\n",
    "                    initial_portfolio=portfolio\n",
    "                    portfolio += 3*Amount_to_bet\n",
    "                    win='WINNER :)' \n",
    "                    \n",
    "                else:\n",
    "                    initial_portfolio=portfolio\n",
    "                    portfolio -= Amount_to_bet\n",
    "                    win='LOSER :('\n",
    "                    \n",
    "                return pd.DataFrame({'outcome': [win], 'winnings': [portfolio-initial_portfolio],'portfolio':[portfolio]}) \n",
    "            elif final_value_decision=='third_twelve':\n",
    "                if outcome in table.third_twelve:\n",
    "                    initial_portfolio=portfolio\n",
    "                    portfolio += 3*Amount_to_bet\n",
    "                    win='WINNER :)'\n",
    "                    \n",
    "                else:\n",
    "                    initial_portfolio=portfolio\n",
    "                    portfolio -= Amount_to_bet\n",
    "                    win='LOSER :('\n",
    "                    \n",
    "                return pd.DataFrame({'outcome': [win], 'winnings': [portfolio-initial_portfolio], 'portfolio': [portfolio]} ) \n",
    "        \n",
    "        \n",
    "        else:\n",
    "            if outcome==final_value_decision:\n",
    "                initial_portfolio=portfolio\n",
    "                portfolio+=34*Amount_to_bet\n",
    "                win='WINNER :)'\n",
    "                \n",
    "            else:\n",
    "                initial_portfolio=portfolio\n",
    "                portfolio-=Amount_to_bet\n",
    "                win='LOSER :('\n",
    "                \n",
    "            return pd.DataFrame({'outcome': [win], 'winnings': [portfolio-initial_portfolio],'portfolio':[portfolio]}) \n",
    "        \n",
    "               \n",
    "    def playing_n_times(self, n, table):\n",
    "        portfolio=self.initialportfolio\n",
    "        initial_portfolio=self.initialportfolio\n",
    "        wins=0\n",
    "        losses=0\n",
    "        for i in range(n):\n",
    "            if initial_portfolio==0:\n",
    "                return 'You are now Broke!'\n",
    "            else:\n",
    "                Results=self.Play_single_game(table, portfolio)\n",
    "                initial_portfolio=Results['portfolio'][0]\n",
    "                if Results['outcome'][0]=='WINNER :)':\n",
    "                    portfolio=portfolio+Results['winnings'][0]\n",
    "                    wins+=1\n",
    "                else:\n",
    "                    portfolio=portfolio+Results['winnings'][0]\n",
    "                    losses+=1\n",
    "        return pd.DataFrame({'wins':[wins], 'losses':[losses],'portfolio':[portfolio]})\n",
    "              \n",
    "           \n",
    "    "
   ]
  },
  {
   "cell_type": "markdown",
   "id": "bf23a8b4",
   "metadata": {},
   "source": [
    "Its important to note some of the intricacies of the code provided, the first being that we assume that all of these people are reasonably seasoned gamblers. They do not risk more than 1% of their portfolio in any gamble. They also always place bets on the gamble which has the highest utility for them. for example, for a rich person the concept of winning small amounts of money is trivial, so they almost always bet on a single value in order to increase the potential earnings, the same applies to a poor person who always bets on red/black or odd/even. In every case a pandas dataframe is provided as the result when the games are played."
   ]
  },
  {
   "cell_type": "code",
   "execution_count": 6,
   "id": "e5815b4a",
   "metadata": {},
   "outputs": [],
   "source": [
    "richperson=people(lambda x: 0.1*x**2, 100000,1000)\n",
    "poorperson=people(lambda x:np.log(x+1),100,1)\n",
    "neutralperson=people(lambda x: x,10000,100)"
   ]
  },
  {
   "cell_type": "code",
   "execution_count": 14,
   "id": "406e5eda",
   "metadata": {},
   "outputs": [
    {
     "name": "stdout",
     "output_type": "stream",
     "text": [
      "bet placed: even outcome: 30\n"
     ]
    },
    {
     "data": {
      "text/html": [
       "<div>\n",
       "<style scoped>\n",
       "    .dataframe tbody tr th:only-of-type {\n",
       "        vertical-align: middle;\n",
       "    }\n",
       "\n",
       "    .dataframe tbody tr th {\n",
       "        vertical-align: top;\n",
       "    }\n",
       "\n",
       "    .dataframe thead th {\n",
       "        text-align: right;\n",
       "    }\n",
       "</style>\n",
       "<table border=\"1\" class=\"dataframe\">\n",
       "  <thead>\n",
       "    <tr style=\"text-align: right;\">\n",
       "      <th></th>\n",
       "      <th>outcome</th>\n",
       "      <th>winnings</th>\n",
       "      <th>portfolio</th>\n",
       "    </tr>\n",
       "  </thead>\n",
       "  <tbody>\n",
       "    <tr>\n",
       "      <th>0</th>\n",
       "      <td>WINNER :)</td>\n",
       "      <td>100.0</td>\n",
       "      <td>10100.0</td>\n",
       "    </tr>\n",
       "  </tbody>\n",
       "</table>\n",
       "</div>"
      ],
      "text/plain": [
       "     outcome  winnings  portfolio\n",
       "0  WINNER :)     100.0    10100.0"
      ]
     },
     "execution_count": 14,
     "metadata": {},
     "output_type": "execute_result"
    }
   ],
   "source": [
    "neutralperson.Play_single_game(European_roulette, neutralperson.initialportfolio)"
   ]
  },
  {
   "cell_type": "code",
   "execution_count": 15,
   "id": "4958ef01",
   "metadata": {},
   "outputs": [
    {
     "name": "stdout",
     "output_type": "stream",
     "text": [
      "bet placed: 6 outcome: 7\n"
     ]
    },
    {
     "data": {
      "text/html": [
       "<div>\n",
       "<style scoped>\n",
       "    .dataframe tbody tr th:only-of-type {\n",
       "        vertical-align: middle;\n",
       "    }\n",
       "\n",
       "    .dataframe tbody tr th {\n",
       "        vertical-align: top;\n",
       "    }\n",
       "\n",
       "    .dataframe thead th {\n",
       "        text-align: right;\n",
       "    }\n",
       "</style>\n",
       "<table border=\"1\" class=\"dataframe\">\n",
       "  <thead>\n",
       "    <tr style=\"text-align: right;\">\n",
       "      <th></th>\n",
       "      <th>outcome</th>\n",
       "      <th>winnings</th>\n",
       "      <th>portfolio</th>\n",
       "    </tr>\n",
       "  </thead>\n",
       "  <tbody>\n",
       "    <tr>\n",
       "      <th>0</th>\n",
       "      <td>LOSER :(</td>\n",
       "      <td>-1000.0</td>\n",
       "      <td>99000.0</td>\n",
       "    </tr>\n",
       "  </tbody>\n",
       "</table>\n",
       "</div>"
      ],
      "text/plain": [
       "    outcome  winnings  portfolio\n",
       "0  LOSER :(   -1000.0    99000.0"
      ]
     },
     "execution_count": 15,
     "metadata": {},
     "output_type": "execute_result"
    }
   ],
   "source": [
    "richperson.Play_single_game(European_roulette, richperson.initialportfolio)"
   ]
  },
  {
   "cell_type": "code",
   "execution_count": 16,
   "id": "942e6c41",
   "metadata": {},
   "outputs": [
    {
     "name": "stdout",
     "output_type": "stream",
     "text": [
      "bet placed: even outcome: 3\n"
     ]
    },
    {
     "data": {
      "text/html": [
       "<div>\n",
       "<style scoped>\n",
       "    .dataframe tbody tr th:only-of-type {\n",
       "        vertical-align: middle;\n",
       "    }\n",
       "\n",
       "    .dataframe tbody tr th {\n",
       "        vertical-align: top;\n",
       "    }\n",
       "\n",
       "    .dataframe thead th {\n",
       "        text-align: right;\n",
       "    }\n",
       "</style>\n",
       "<table border=\"1\" class=\"dataframe\">\n",
       "  <thead>\n",
       "    <tr style=\"text-align: right;\">\n",
       "      <th></th>\n",
       "      <th>outcome</th>\n",
       "      <th>winnings</th>\n",
       "      <th>portfolio</th>\n",
       "    </tr>\n",
       "  </thead>\n",
       "  <tbody>\n",
       "    <tr>\n",
       "      <th>0</th>\n",
       "      <td>LOSER :(</td>\n",
       "      <td>-1.0</td>\n",
       "      <td>99.0</td>\n",
       "    </tr>\n",
       "  </tbody>\n",
       "</table>\n",
       "</div>"
      ],
      "text/plain": [
       "    outcome  winnings  portfolio\n",
       "0  LOSER :(      -1.0       99.0"
      ]
     },
     "execution_count": 16,
     "metadata": {},
     "output_type": "execute_result"
    }
   ],
   "source": [
    "poorperson.Play_single_game(European_roulette,poorperson.initialportfolio)"
   ]
  },
  {
   "cell_type": "markdown",
   "id": "b556fd34",
   "metadata": {},
   "source": [
    "So we can see in a single game setting a rich person has a higher utiltiy for single values whereas a more logical neutral and poor person are convinced by the higher odds of winning if you bet on the even/odd or red/black sections. Its important to note that these bets are consistant with the utilities calculated using the calc_utility function. As a demonstrarion these are also provided below."
   ]
  },
  {
   "cell_type": "code",
   "execution_count": 17,
   "id": "2632c884",
   "metadata": {},
   "outputs": [
    {
     "data": {
      "text/html": [
       "<div>\n",
       "<style scoped>\n",
       "    .dataframe tbody tr th:only-of-type {\n",
       "        vertical-align: middle;\n",
       "    }\n",
       "\n",
       "    .dataframe tbody tr th {\n",
       "        vertical-align: top;\n",
       "    }\n",
       "\n",
       "    .dataframe thead th {\n",
       "        text-align: right;\n",
       "    }\n",
       "</style>\n",
       "<table border=\"1\" class=\"dataframe\">\n",
       "  <thead>\n",
       "    <tr style=\"text-align: right;\">\n",
       "      <th></th>\n",
       "      <th>Gambles</th>\n",
       "      <th>utility</th>\n",
       "    </tr>\n",
       "  </thead>\n",
       "  <tbody>\n",
       "    <tr>\n",
       "      <th>0</th>\n",
       "      <td>Single Number</td>\n",
       "      <td>94.594595</td>\n",
       "    </tr>\n",
       "    <tr>\n",
       "      <th>1</th>\n",
       "      <td>Odd/Even</td>\n",
       "      <td>97.297297</td>\n",
       "    </tr>\n",
       "    <tr>\n",
       "      <th>2</th>\n",
       "      <td>Red/Black</td>\n",
       "      <td>97.297297</td>\n",
       "    </tr>\n",
       "    <tr>\n",
       "      <th>3</th>\n",
       "      <td>Dozens</td>\n",
       "      <td>97.297297</td>\n",
       "    </tr>\n",
       "  </tbody>\n",
       "</table>\n",
       "</div>"
      ],
      "text/plain": [
       "         Gambles    utility\n",
       "0  Single Number  94.594595\n",
       "1       Odd/Even  97.297297\n",
       "2      Red/Black  97.297297\n",
       "3         Dozens  97.297297"
      ]
     },
     "execution_count": 17,
     "metadata": {},
     "output_type": "execute_result"
    }
   ],
   "source": [
    "neutralperson.calc_utility(European_roulette, neutralperson.max_bet_at_once)"
   ]
  },
  {
   "cell_type": "code",
   "execution_count": 18,
   "id": "36e3ce32",
   "metadata": {},
   "outputs": [
    {
     "data": {
      "text/html": [
       "<div>\n",
       "<style scoped>\n",
       "    .dataframe tbody tr th:only-of-type {\n",
       "        vertical-align: middle;\n",
       "    }\n",
       "\n",
       "    .dataframe tbody tr th {\n",
       "        vertical-align: top;\n",
       "    }\n",
       "\n",
       "    .dataframe thead th {\n",
       "        text-align: right;\n",
       "    }\n",
       "</style>\n",
       "<table border=\"1\" class=\"dataframe\">\n",
       "  <thead>\n",
       "    <tr style=\"text-align: right;\">\n",
       "      <th></th>\n",
       "      <th>Gambles</th>\n",
       "      <th>utility</th>\n",
       "    </tr>\n",
       "  </thead>\n",
       "  <tbody>\n",
       "    <tr>\n",
       "      <th>0</th>\n",
       "      <td>Single Number</td>\n",
       "      <td>3.310811e+06</td>\n",
       "    </tr>\n",
       "    <tr>\n",
       "      <th>1</th>\n",
       "      <td>Odd/Even</td>\n",
       "      <td>1.945946e+05</td>\n",
       "    </tr>\n",
       "    <tr>\n",
       "      <th>2</th>\n",
       "      <td>Red/Black</td>\n",
       "      <td>1.945946e+05</td>\n",
       "    </tr>\n",
       "    <tr>\n",
       "      <th>3</th>\n",
       "      <td>Dozens</td>\n",
       "      <td>2.918919e+05</td>\n",
       "    </tr>\n",
       "  </tbody>\n",
       "</table>\n",
       "</div>"
      ],
      "text/plain": [
       "         Gambles       utility\n",
       "0  Single Number  3.310811e+06\n",
       "1       Odd/Even  1.945946e+05\n",
       "2      Red/Black  1.945946e+05\n",
       "3         Dozens  2.918919e+05"
      ]
     },
     "execution_count": 18,
     "metadata": {},
     "output_type": "execute_result"
    }
   ],
   "source": [
    "richperson.calc_utility(European_roulette, richperson.max_bet_at_once)"
   ]
  },
  {
   "cell_type": "code",
   "execution_count": 19,
   "id": "43f2eb85",
   "metadata": {},
   "outputs": [
    {
     "data": {
      "text/html": [
       "<div>\n",
       "<style scoped>\n",
       "    .dataframe tbody tr th:only-of-type {\n",
       "        vertical-align: middle;\n",
       "    }\n",
       "\n",
       "    .dataframe tbody tr th {\n",
       "        vertical-align: top;\n",
       "    }\n",
       "\n",
       "    .dataframe thead th {\n",
       "        text-align: right;\n",
       "    }\n",
       "</style>\n",
       "<table border=\"1\" class=\"dataframe\">\n",
       "  <thead>\n",
       "    <tr style=\"text-align: right;\">\n",
       "      <th></th>\n",
       "      <th>Gambles</th>\n",
       "      <th>utility</th>\n",
       "    </tr>\n",
       "  </thead>\n",
       "  <tbody>\n",
       "    <tr>\n",
       "      <th>0</th>\n",
       "      <td>Single Number</td>\n",
       "      <td>0.096852</td>\n",
       "    </tr>\n",
       "    <tr>\n",
       "      <th>1</th>\n",
       "      <td>Odd/Even</td>\n",
       "      <td>0.534460</td>\n",
       "    </tr>\n",
       "    <tr>\n",
       "      <th>2</th>\n",
       "      <td>Red/Black</td>\n",
       "      <td>0.534460</td>\n",
       "    </tr>\n",
       "    <tr>\n",
       "      <th>3</th>\n",
       "      <td>Dozens</td>\n",
       "      <td>0.449609</td>\n",
       "    </tr>\n",
       "  </tbody>\n",
       "</table>\n",
       "</div>"
      ],
      "text/plain": [
       "         Gambles   utility\n",
       "0  Single Number  0.096852\n",
       "1       Odd/Even  0.534460\n",
       "2      Red/Black  0.534460\n",
       "3         Dozens  0.449609"
      ]
     },
     "execution_count": 19,
     "metadata": {},
     "output_type": "execute_result"
    }
   ],
   "source": [
    "poorperson.calc_utility(European_roulette, poorperson.max_bet_at_once)"
   ]
  },
  {
   "cell_type": "markdown",
   "id": "e4bc8055",
   "metadata": {},
   "source": [
    "## Erratic Behaviour"
   ]
  },
  {
   "cell_type": "markdown",
   "id": "865cebc1",
   "metadata": {},
   "source": [
    "We are still yet to use the play_n_times function and also introduce the fourth person. Erratic behaviour can be modelled using randomness inside the utility function of the person we believe to be erratic. In this case, the most likely scene is to see someone get drunk at the casino and start placing bets with seemingly no logic whatsoever. We have added randomness in the form of shifting a sin function by a randomly chosen integer to provide illogical conclusions which differ every time you play a game."
   ]
  },
  {
   "cell_type": "code",
   "execution_count": 10,
   "id": "1b60e523",
   "metadata": {},
   "outputs": [],
   "source": [
    "drunkperson=people(lambda x: np.sin(x)**2+random.randint(-5, 5),10000,10000)"
   ]
  },
  {
   "cell_type": "markdown",
   "id": "23c8229e",
   "metadata": {},
   "source": [
    "We are still assuming he is at the casino for a good night out and doesnt want to leave early  so he wont risk more than 1% of his portfolio in order to prolong his night out. lets play a few independent games to demonstrate the theory behind this."
   ]
  },
  {
   "cell_type": "code",
   "execution_count": 22,
   "id": "d08dae41",
   "metadata": {},
   "outputs": [
    {
     "name": "stdout",
     "output_type": "stream",
     "text": [
      "bet placed: even outcome: 24\n"
     ]
    },
    {
     "data": {
      "text/html": [
       "<div>\n",
       "<style scoped>\n",
       "    .dataframe tbody tr th:only-of-type {\n",
       "        vertical-align: middle;\n",
       "    }\n",
       "\n",
       "    .dataframe tbody tr th {\n",
       "        vertical-align: top;\n",
       "    }\n",
       "\n",
       "    .dataframe thead th {\n",
       "        text-align: right;\n",
       "    }\n",
       "</style>\n",
       "<table border=\"1\" class=\"dataframe\">\n",
       "  <thead>\n",
       "    <tr style=\"text-align: right;\">\n",
       "      <th></th>\n",
       "      <th>outcome</th>\n",
       "      <th>winnings</th>\n",
       "      <th>portfolio</th>\n",
       "    </tr>\n",
       "  </thead>\n",
       "  <tbody>\n",
       "    <tr>\n",
       "      <th>0</th>\n",
       "      <td>WINNER :)</td>\n",
       "      <td>100.0</td>\n",
       "      <td>10100.0</td>\n",
       "    </tr>\n",
       "  </tbody>\n",
       "</table>\n",
       "</div>"
      ],
      "text/plain": [
       "     outcome  winnings  portfolio\n",
       "0  WINNER :)     100.0    10100.0"
      ]
     },
     "execution_count": 22,
     "metadata": {},
     "output_type": "execute_result"
    }
   ],
   "source": [
    "drunkperson.Play_single_game(European_roulette, drunkperson.initialportfolio)"
   ]
  },
  {
   "cell_type": "code",
   "execution_count": 23,
   "id": "d52d6e64",
   "metadata": {},
   "outputs": [
    {
     "name": "stdout",
     "output_type": "stream",
     "text": [
      "bet placed: black outcome: 23\n"
     ]
    },
    {
     "data": {
      "text/html": [
       "<div>\n",
       "<style scoped>\n",
       "    .dataframe tbody tr th:only-of-type {\n",
       "        vertical-align: middle;\n",
       "    }\n",
       "\n",
       "    .dataframe tbody tr th {\n",
       "        vertical-align: top;\n",
       "    }\n",
       "\n",
       "    .dataframe thead th {\n",
       "        text-align: right;\n",
       "    }\n",
       "</style>\n",
       "<table border=\"1\" class=\"dataframe\">\n",
       "  <thead>\n",
       "    <tr style=\"text-align: right;\">\n",
       "      <th></th>\n",
       "      <th>outcome</th>\n",
       "      <th>winnings</th>\n",
       "      <th>portfolio</th>\n",
       "    </tr>\n",
       "  </thead>\n",
       "  <tbody>\n",
       "    <tr>\n",
       "      <th>0</th>\n",
       "      <td>LOSER :(</td>\n",
       "      <td>-100.0</td>\n",
       "      <td>9900.0</td>\n",
       "    </tr>\n",
       "  </tbody>\n",
       "</table>\n",
       "</div>"
      ],
      "text/plain": [
       "    outcome  winnings  portfolio\n",
       "0  LOSER :(    -100.0     9900.0"
      ]
     },
     "execution_count": 23,
     "metadata": {},
     "output_type": "execute_result"
    }
   ],
   "source": [
    "drunkperson.Play_single_game(European_roulette, drunkperson.initialportfolio)"
   ]
  },
  {
   "cell_type": "code",
   "execution_count": 24,
   "id": "7191c452",
   "metadata": {},
   "outputs": [
    {
     "name": "stdout",
     "output_type": "stream",
     "text": [
      "bet placed: first_twelve outcome: 30\n"
     ]
    },
    {
     "data": {
      "text/html": [
       "<div>\n",
       "<style scoped>\n",
       "    .dataframe tbody tr th:only-of-type {\n",
       "        vertical-align: middle;\n",
       "    }\n",
       "\n",
       "    .dataframe tbody tr th {\n",
       "        vertical-align: top;\n",
       "    }\n",
       "\n",
       "    .dataframe thead th {\n",
       "        text-align: right;\n",
       "    }\n",
       "</style>\n",
       "<table border=\"1\" class=\"dataframe\">\n",
       "  <thead>\n",
       "    <tr style=\"text-align: right;\">\n",
       "      <th></th>\n",
       "      <th>outcome</th>\n",
       "      <th>winnings</th>\n",
       "      <th>portfolio</th>\n",
       "    </tr>\n",
       "  </thead>\n",
       "  <tbody>\n",
       "    <tr>\n",
       "      <th>0</th>\n",
       "      <td>LOSER :(</td>\n",
       "      <td>-100.0</td>\n",
       "      <td>9900.0</td>\n",
       "    </tr>\n",
       "  </tbody>\n",
       "</table>\n",
       "</div>"
      ],
      "text/plain": [
       "    outcome  winnings  portfolio\n",
       "0  LOSER :(    -100.0     9900.0"
      ]
     },
     "execution_count": 24,
     "metadata": {},
     "output_type": "execute_result"
    }
   ],
   "source": [
    "drunkperson.Play_single_game(European_roulette, drunkperson.initialportfolio)"
   ]
  },
  {
   "cell_type": "code",
   "execution_count": 25,
   "id": "d88a28dd",
   "metadata": {},
   "outputs": [
    {
     "name": "stdout",
     "output_type": "stream",
     "text": [
      "bet placed: first_twelve outcome: 36\n"
     ]
    },
    {
     "data": {
      "text/html": [
       "<div>\n",
       "<style scoped>\n",
       "    .dataframe tbody tr th:only-of-type {\n",
       "        vertical-align: middle;\n",
       "    }\n",
       "\n",
       "    .dataframe tbody tr th {\n",
       "        vertical-align: top;\n",
       "    }\n",
       "\n",
       "    .dataframe thead th {\n",
       "        text-align: right;\n",
       "    }\n",
       "</style>\n",
       "<table border=\"1\" class=\"dataframe\">\n",
       "  <thead>\n",
       "    <tr style=\"text-align: right;\">\n",
       "      <th></th>\n",
       "      <th>outcome</th>\n",
       "      <th>winnings</th>\n",
       "      <th>portfolio</th>\n",
       "    </tr>\n",
       "  </thead>\n",
       "  <tbody>\n",
       "    <tr>\n",
       "      <th>0</th>\n",
       "      <td>LOSER :(</td>\n",
       "      <td>-100.0</td>\n",
       "      <td>9900.0</td>\n",
       "    </tr>\n",
       "  </tbody>\n",
       "</table>\n",
       "</div>"
      ],
      "text/plain": [
       "    outcome  winnings  portfolio\n",
       "0  LOSER :(    -100.0     9900.0"
      ]
     },
     "execution_count": 25,
     "metadata": {},
     "output_type": "execute_result"
    }
   ],
   "source": [
    "drunkperson.Play_single_game(European_roulette, drunkperson.initialportfolio)"
   ]
  },
  {
   "cell_type": "markdown",
   "id": "f2b3a028",
   "metadata": {},
   "source": [
    "And finally we show what the utilities could look like for this person, the deciding factor in how he places his bets."
   ]
  },
  {
   "cell_type": "code",
   "execution_count": 26,
   "id": "311f5d7b",
   "metadata": {},
   "outputs": [
    {
     "data": {
      "text/html": [
       "<div>\n",
       "<style scoped>\n",
       "    .dataframe tbody tr th:only-of-type {\n",
       "        vertical-align: middle;\n",
       "    }\n",
       "\n",
       "    .dataframe tbody tr th {\n",
       "        vertical-align: top;\n",
       "    }\n",
       "\n",
       "    .dataframe thead th {\n",
       "        text-align: right;\n",
       "    }\n",
       "</style>\n",
       "<table border=\"1\" class=\"dataframe\">\n",
       "  <thead>\n",
       "    <tr style=\"text-align: right;\">\n",
       "      <th></th>\n",
       "      <th>Gambles</th>\n",
       "      <th>utility</th>\n",
       "    </tr>\n",
       "  </thead>\n",
       "  <tbody>\n",
       "    <tr>\n",
       "      <th>0</th>\n",
       "      <td>Single Number</td>\n",
       "      <td>0.053633</td>\n",
       "    </tr>\n",
       "    <tr>\n",
       "      <th>1</th>\n",
       "      <td>Odd/Even</td>\n",
       "      <td>-0.808197</td>\n",
       "    </tr>\n",
       "    <tr>\n",
       "      <th>2</th>\n",
       "      <td>Red/Black</td>\n",
       "      <td>-0.321710</td>\n",
       "    </tr>\n",
       "    <tr>\n",
       "      <th>3</th>\n",
       "      <td>Dozens</td>\n",
       "      <td>-1.412669</td>\n",
       "    </tr>\n",
       "  </tbody>\n",
       "</table>\n",
       "</div>"
      ],
      "text/plain": [
       "         Gambles   utility\n",
       "0  Single Number  0.053633\n",
       "1       Odd/Even -0.808197\n",
       "2      Red/Black -0.321710\n",
       "3         Dozens -1.412669"
      ]
     },
     "execution_count": 26,
     "metadata": {},
     "output_type": "execute_result"
    }
   ],
   "source": [
    "drunkperson.calc_utility(European_roulette, drunkperson.max_bet_at_once)"
   ]
  },
  {
   "cell_type": "code",
   "execution_count": 27,
   "id": "b6f77cf8",
   "metadata": {},
   "outputs": [
    {
     "data": {
      "text/html": [
       "<div>\n",
       "<style scoped>\n",
       "    .dataframe tbody tr th:only-of-type {\n",
       "        vertical-align: middle;\n",
       "    }\n",
       "\n",
       "    .dataframe tbody tr th {\n",
       "        vertical-align: top;\n",
       "    }\n",
       "\n",
       "    .dataframe thead th {\n",
       "        text-align: right;\n",
       "    }\n",
       "</style>\n",
       "<table border=\"1\" class=\"dataframe\">\n",
       "  <thead>\n",
       "    <tr style=\"text-align: right;\">\n",
       "      <th></th>\n",
       "      <th>Gambles</th>\n",
       "      <th>utility</th>\n",
       "    </tr>\n",
       "  </thead>\n",
       "  <tbody>\n",
       "    <tr>\n",
       "      <th>0</th>\n",
       "      <td>Single Number</td>\n",
       "      <td>-0.081502</td>\n",
       "    </tr>\n",
       "    <tr>\n",
       "      <th>1</th>\n",
       "      <td>Odd/Even</td>\n",
       "      <td>1.137749</td>\n",
       "    </tr>\n",
       "    <tr>\n",
       "      <th>2</th>\n",
       "      <td>Red/Black</td>\n",
       "      <td>-1.294683</td>\n",
       "    </tr>\n",
       "    <tr>\n",
       "      <th>3</th>\n",
       "      <td>Dozens</td>\n",
       "      <td>-0.115371</td>\n",
       "    </tr>\n",
       "  </tbody>\n",
       "</table>\n",
       "</div>"
      ],
      "text/plain": [
       "         Gambles   utility\n",
       "0  Single Number -0.081502\n",
       "1       Odd/Even  1.137749\n",
       "2      Red/Black -1.294683\n",
       "3         Dozens -0.115371"
      ]
     },
     "execution_count": 27,
     "metadata": {},
     "output_type": "execute_result"
    }
   ],
   "source": [
    "drunkperson.calc_utility(European_roulette, drunkperson.max_bet_at_once)"
   ]
  },
  {
   "cell_type": "markdown",
   "id": "7ba81fdf",
   "metadata": {},
   "source": [
    "Clearly we can see that the randomness has caused the utilities to be different with every game and hence has modelled the erratic behaviour."
   ]
  },
  {
   "cell_type": "markdown",
   "id": "2afafb00",
   "metadata": {},
   "source": [
    "## Simulating a full night gambling"
   ]
  },
  {
   "cell_type": "markdown",
   "id": "92a77354",
   "metadata": {},
   "source": [
    "Although doing this has been quite some fun, it wouldnt be very \n",
    "academic without some semblence of a conclusion, so lets consider\n",
    "playing the roulette game n times recording wether or not the player\n",
    "goes broke."
   ]
  },
  {
   "cell_type": "markdown",
   "id": "1ac43a17",
   "metadata": {},
   "source": [
    "It is correct to say that the process of tracking the value of the \n",
    "portfolio at any time t where t is the amount of bets placed, is a simple\n",
    "random walk on a line. If you would like to know more about these types\n",
    "of stochastic processes, it would be a good idea to start learning the basics\n",
    "of markov chains moving towards simple random walks such as the gamblers\n",
    "ruin problem which this is closest too."
   ]
  },
  {
   "cell_type": "markdown",
   "id": "a5030e0e",
   "metadata": {},
   "source": [
    "We first consider the rich person and how his portfolio progresses as n increases."
   ]
  },
  {
   "cell_type": "code",
   "execution_count": 28,
   "id": "39de45d1",
   "metadata": {},
   "outputs": [
    {
     "name": "stdout",
     "output_type": "stream",
     "text": [
      "bet placed: 20 outcome: 5\n",
      "bet placed: 24 outcome: 3\n",
      "bet placed: 14 outcome: 10\n",
      "bet placed: 11 outcome: 16\n",
      "bet placed: 12 outcome: 20\n"
     ]
    },
    {
     "data": {
      "text/html": [
       "<div>\n",
       "<style scoped>\n",
       "    .dataframe tbody tr th:only-of-type {\n",
       "        vertical-align: middle;\n",
       "    }\n",
       "\n",
       "    .dataframe tbody tr th {\n",
       "        vertical-align: top;\n",
       "    }\n",
       "\n",
       "    .dataframe thead th {\n",
       "        text-align: right;\n",
       "    }\n",
       "</style>\n",
       "<table border=\"1\" class=\"dataframe\">\n",
       "  <thead>\n",
       "    <tr style=\"text-align: right;\">\n",
       "      <th></th>\n",
       "      <th>wins</th>\n",
       "      <th>losses</th>\n",
       "      <th>portfolio</th>\n",
       "    </tr>\n",
       "  </thead>\n",
       "  <tbody>\n",
       "    <tr>\n",
       "      <th>0</th>\n",
       "      <td>0</td>\n",
       "      <td>5</td>\n",
       "      <td>95099.00499</td>\n",
       "    </tr>\n",
       "  </tbody>\n",
       "</table>\n",
       "</div>"
      ],
      "text/plain": [
       "   wins  losses    portfolio\n",
       "0     0       5  95099.00499"
      ]
     },
     "execution_count": 28,
     "metadata": {},
     "output_type": "execute_result"
    }
   ],
   "source": [
    "richperson.playing_n_times(5, European_roulette)"
   ]
  },
  {
   "cell_type": "code",
   "execution_count": 29,
   "id": "76494f5d",
   "metadata": {},
   "outputs": [
    {
     "name": "stdout",
     "output_type": "stream",
     "text": [
      "bet placed: 13 outcome: 21\n",
      "bet placed: 31 outcome: 31\n",
      "bet placed: 18 outcome: 10\n",
      "bet placed: 32 outcome: 31\n",
      "bet placed: 25 outcome: 14\n",
      "bet placed: 14 outcome: 29\n",
      "bet placed: 8 outcome: 25\n",
      "bet placed: 18 outcome: 33\n",
      "bet placed: 32 outcome: 33\n",
      "bet placed: 22 outcome: 23\n",
      "bet placed: 28 outcome: 34\n",
      "bet placed: 19 outcome: 26\n",
      "bet placed: 2 outcome: 35\n",
      "bet placed: 4 outcome: 23\n",
      "bet placed: 5 outcome: 19\n",
      "bet placed: 1 outcome: 0\n",
      "bet placed: 24 outcome: 8\n",
      "bet placed: 35 outcome: 17\n",
      "bet placed: 35 outcome: 29\n",
      "bet placed: 35 outcome: 28\n",
      "bet placed: 15 outcome: 14\n",
      "bet placed: 13 outcome: 23\n",
      "bet placed: 11 outcome: 22\n",
      "bet placed: 22 outcome: 4\n",
      "bet placed: 25 outcome: 34\n",
      "bet placed: 24 outcome: 3\n",
      "bet placed: 30 outcome: 31\n",
      "bet placed: 33 outcome: 19\n",
      "bet placed: 3 outcome: 6\n",
      "bet placed: 17 outcome: 32\n"
     ]
    },
    {
     "data": {
      "text/html": [
       "<div>\n",
       "<style scoped>\n",
       "    .dataframe tbody tr th:only-of-type {\n",
       "        vertical-align: middle;\n",
       "    }\n",
       "\n",
       "    .dataframe tbody tr th {\n",
       "        vertical-align: top;\n",
       "    }\n",
       "\n",
       "    .dataframe thead th {\n",
       "        text-align: right;\n",
       "    }\n",
       "</style>\n",
       "<table border=\"1\" class=\"dataframe\">\n",
       "  <thead>\n",
       "    <tr style=\"text-align: right;\">\n",
       "      <th></th>\n",
       "      <th>wins</th>\n",
       "      <th>losses</th>\n",
       "      <th>portfolio</th>\n",
       "    </tr>\n",
       "  </thead>\n",
       "  <tbody>\n",
       "    <tr>\n",
       "      <th>0</th>\n",
       "      <td>1</td>\n",
       "      <td>29</td>\n",
       "      <td>104660.0</td>\n",
       "    </tr>\n",
       "  </tbody>\n",
       "</table>\n",
       "</div>"
      ],
      "text/plain": [
       "   wins  losses  portfolio\n",
       "0     1      29   104660.0"
      ]
     },
     "execution_count": 29,
     "metadata": {},
     "output_type": "execute_result"
    }
   ],
   "source": [
    "richperson.playing_n_times(30, European_roulette)"
   ]
  },
  {
   "cell_type": "code",
   "execution_count": 31,
   "id": "870ddd13",
   "metadata": {},
   "outputs": [
    {
     "name": "stdout",
     "output_type": "stream",
     "text": [
      "bet placed: 24 outcome: 13\n",
      "bet placed: 33 outcome: 31\n",
      "bet placed: 27 outcome: 28\n",
      "bet placed: 35 outcome: 3\n",
      "bet placed: 15 outcome: 20\n",
      "bet placed: 16 outcome: 7\n",
      "bet placed: 11 outcome: 7\n",
      "bet placed: 29 outcome: 9\n",
      "bet placed: 5 outcome: 9\n",
      "bet placed: 6 outcome: 25\n",
      "bet placed: 9 outcome: 24\n",
      "bet placed: 11 outcome: 6\n",
      "bet placed: 33 outcome: 14\n",
      "bet placed: 11 outcome: 20\n",
      "bet placed: 10 outcome: 5\n",
      "bet placed: 7 outcome: 34\n",
      "bet placed: 8 outcome: 19\n",
      "bet placed: 21 outcome: 22\n",
      "bet placed: 16 outcome: 2\n",
      "bet placed: 1 outcome: 2\n",
      "bet placed: 0 outcome: 36\n",
      "bet placed: 35 outcome: 9\n",
      "bet placed: 14 outcome: 18\n",
      "bet placed: 35 outcome: 24\n",
      "bet placed: 0 outcome: 32\n",
      "bet placed: 30 outcome: 7\n",
      "bet placed: 2 outcome: 0\n",
      "bet placed: 32 outcome: 16\n",
      "bet placed: 1 outcome: 1\n",
      "bet placed: 18 outcome: 31\n",
      "bet placed: 19 outcome: 3\n",
      "bet placed: 24 outcome: 23\n",
      "bet placed: 15 outcome: 0\n",
      "bet placed: 10 outcome: 23\n",
      "bet placed: 15 outcome: 3\n",
      "bet placed: 17 outcome: 2\n",
      "bet placed: 31 outcome: 23\n",
      "bet placed: 31 outcome: 0\n",
      "bet placed: 31 outcome: 13\n",
      "bet placed: 0 outcome: 7\n",
      "bet placed: 19 outcome: 10\n",
      "bet placed: 9 outcome: 14\n",
      "bet placed: 7 outcome: 22\n",
      "bet placed: 18 outcome: 4\n",
      "bet placed: 7 outcome: 6\n",
      "bet placed: 36 outcome: 4\n",
      "bet placed: 2 outcome: 33\n",
      "bet placed: 30 outcome: 26\n",
      "bet placed: 18 outcome: 10\n",
      "bet placed: 34 outcome: 18\n"
     ]
    },
    {
     "data": {
      "text/html": [
       "<div>\n",
       "<style scoped>\n",
       "    .dataframe tbody tr th:only-of-type {\n",
       "        vertical-align: middle;\n",
       "    }\n",
       "\n",
       "    .dataframe tbody tr th {\n",
       "        vertical-align: top;\n",
       "    }\n",
       "\n",
       "    .dataframe thead th {\n",
       "        text-align: right;\n",
       "    }\n",
       "</style>\n",
       "<table border=\"1\" class=\"dataframe\">\n",
       "  <thead>\n",
       "    <tr style=\"text-align: right;\">\n",
       "      <th></th>\n",
       "      <th>wins</th>\n",
       "      <th>losses</th>\n",
       "      <th>portfolio</th>\n",
       "    </tr>\n",
       "  </thead>\n",
       "  <tbody>\n",
       "    <tr>\n",
       "      <th>0</th>\n",
       "      <td>1</td>\n",
       "      <td>49</td>\n",
       "      <td>81900.065668</td>\n",
       "    </tr>\n",
       "  </tbody>\n",
       "</table>\n",
       "</div>"
      ],
      "text/plain": [
       "   wins  losses     portfolio\n",
       "0     1      49  81900.065668"
      ]
     },
     "execution_count": 31,
     "metadata": {},
     "output_type": "execute_result"
    }
   ],
   "source": [
    "richperson.playing_n_times(50, European_roulette)"
   ]
  },
  {
   "cell_type": "markdown",
   "id": "557a83bb",
   "metadata": {},
   "source": [
    "Now looking at the neutral person"
   ]
  },
  {
   "cell_type": "code",
   "execution_count": 32,
   "id": "fda852dd",
   "metadata": {},
   "outputs": [
    {
     "name": "stdout",
     "output_type": "stream",
     "text": [
      "bet placed: even outcome: 1\n",
      "bet placed: odd outcome: 0\n",
      "bet placed: odd outcome: 16\n",
      "bet placed: even outcome: 25\n",
      "bet placed: odd outcome: 8\n"
     ]
    },
    {
     "data": {
      "text/html": [
       "<div>\n",
       "<style scoped>\n",
       "    .dataframe tbody tr th:only-of-type {\n",
       "        vertical-align: middle;\n",
       "    }\n",
       "\n",
       "    .dataframe tbody tr th {\n",
       "        vertical-align: top;\n",
       "    }\n",
       "\n",
       "    .dataframe thead th {\n",
       "        text-align: right;\n",
       "    }\n",
       "</style>\n",
       "<table border=\"1\" class=\"dataframe\">\n",
       "  <thead>\n",
       "    <tr style=\"text-align: right;\">\n",
       "      <th></th>\n",
       "      <th>wins</th>\n",
       "      <th>losses</th>\n",
       "      <th>portfolio</th>\n",
       "    </tr>\n",
       "  </thead>\n",
       "  <tbody>\n",
       "    <tr>\n",
       "      <th>0</th>\n",
       "      <td>0</td>\n",
       "      <td>5</td>\n",
       "      <td>9509.900499</td>\n",
       "    </tr>\n",
       "  </tbody>\n",
       "</table>\n",
       "</div>"
      ],
      "text/plain": [
       "   wins  losses    portfolio\n",
       "0     0       5  9509.900499"
      ]
     },
     "execution_count": 32,
     "metadata": {},
     "output_type": "execute_result"
    }
   ],
   "source": [
    "neutralperson.playing_n_times(5, European_roulette)"
   ]
  },
  {
   "cell_type": "code",
   "execution_count": 33,
   "id": "69e8ef1f",
   "metadata": {},
   "outputs": [
    {
     "name": "stdout",
     "output_type": "stream",
     "text": [
      "bet placed: even outcome: 33\n",
      "bet placed: even outcome: 6\n",
      "bet placed: even outcome: 13\n",
      "bet placed: even outcome: 2\n",
      "bet placed: even outcome: 16\n",
      "bet placed: odd outcome: 27\n",
      "bet placed: odd outcome: 21\n",
      "bet placed: even outcome: 8\n",
      "bet placed: even outcome: 35\n",
      "bet placed: odd outcome: 19\n",
      "bet placed: even outcome: 10\n",
      "bet placed: odd outcome: 23\n",
      "bet placed: odd outcome: 6\n",
      "bet placed: odd outcome: 27\n",
      "bet placed: even outcome: 13\n",
      "bet placed: even outcome: 29\n",
      "bet placed: even outcome: 1\n",
      "bet placed: odd outcome: 33\n",
      "bet placed: even outcome: 4\n",
      "bet placed: even outcome: 13\n",
      "bet placed: even outcome: 34\n",
      "bet placed: odd outcome: 4\n",
      "bet placed: even outcome: 33\n",
      "bet placed: even outcome: 2\n",
      "bet placed: odd outcome: 30\n",
      "bet placed: odd outcome: 30\n",
      "bet placed: even outcome: 20\n",
      "bet placed: even outcome: 8\n",
      "bet placed: odd outcome: 29\n",
      "bet placed: even outcome: 10\n"
     ]
    },
    {
     "data": {
      "text/html": [
       "<div>\n",
       "<style scoped>\n",
       "    .dataframe tbody tr th:only-of-type {\n",
       "        vertical-align: middle;\n",
       "    }\n",
       "\n",
       "    .dataframe tbody tr th {\n",
       "        vertical-align: top;\n",
       "    }\n",
       "\n",
       "    .dataframe thead th {\n",
       "        text-align: right;\n",
       "    }\n",
       "</style>\n",
       "<table border=\"1\" class=\"dataframe\">\n",
       "  <thead>\n",
       "    <tr style=\"text-align: right;\">\n",
       "      <th></th>\n",
       "      <th>wins</th>\n",
       "      <th>losses</th>\n",
       "      <th>portfolio</th>\n",
       "    </tr>\n",
       "  </thead>\n",
       "  <tbody>\n",
       "    <tr>\n",
       "      <th>0</th>\n",
       "      <td>18</td>\n",
       "      <td>12</td>\n",
       "      <td>10597.980101</td>\n",
       "    </tr>\n",
       "  </tbody>\n",
       "</table>\n",
       "</div>"
      ],
      "text/plain": [
       "   wins  losses     portfolio\n",
       "0    18      12  10597.980101"
      ]
     },
     "execution_count": 33,
     "metadata": {},
     "output_type": "execute_result"
    }
   ],
   "source": [
    "neutralperson.playing_n_times(30, European_roulette)"
   ]
  },
  {
   "cell_type": "code",
   "execution_count": 34,
   "id": "7309bab7",
   "metadata": {},
   "outputs": [
    {
     "name": "stdout",
     "output_type": "stream",
     "text": [
      "bet placed: even outcome: 25\n",
      "bet placed: even outcome: 16\n",
      "bet placed: odd outcome: 17\n",
      "bet placed: odd outcome: 36\n",
      "bet placed: even outcome: 7\n",
      "bet placed: odd outcome: 30\n",
      "bet placed: odd outcome: 0\n",
      "bet placed: odd outcome: 24\n",
      "bet placed: even outcome: 29\n",
      "bet placed: odd outcome: 27\n",
      "bet placed: odd outcome: 4\n",
      "bet placed: odd outcome: 14\n",
      "bet placed: odd outcome: 8\n",
      "bet placed: odd outcome: 4\n",
      "bet placed: even outcome: 7\n",
      "bet placed: even outcome: 24\n",
      "bet placed: odd outcome: 22\n",
      "bet placed: odd outcome: 28\n",
      "bet placed: odd outcome: 2\n",
      "bet placed: odd outcome: 12\n",
      "bet placed: second_twelve outcome: 7\n",
      "bet placed: odd outcome: 34\n",
      "bet placed: odd outcome: 1\n",
      "bet placed: even outcome: 31\n",
      "bet placed: odd outcome: 1\n",
      "bet placed: even outcome: 0\n",
      "bet placed: first_twelve outcome: 10\n",
      "bet placed: even outcome: 3\n",
      "bet placed: even outcome: 29\n",
      "bet placed: odd outcome: 33\n",
      "bet placed: odd outcome: 23\n",
      "bet placed: odd outcome: 9\n",
      "bet placed: odd outcome: 5\n",
      "bet placed: even outcome: 3\n",
      "bet placed: even outcome: 24\n",
      "bet placed: even outcome: 3\n",
      "bet placed: even outcome: 27\n",
      "bet placed: odd outcome: 17\n",
      "bet placed: even outcome: 12\n",
      "bet placed: even outcome: 7\n",
      "bet placed: even outcome: 17\n",
      "bet placed: even outcome: 16\n",
      "bet placed: odd outcome: 30\n",
      "bet placed: even outcome: 29\n",
      "bet placed: even outcome: 9\n",
      "bet placed: odd outcome: 9\n",
      "bet placed: even outcome: 9\n",
      "bet placed: odd outcome: 17\n",
      "bet placed: even outcome: 34\n",
      "bet placed: third_twelve outcome: 23\n"
     ]
    },
    {
     "data": {
      "text/html": [
       "<div>\n",
       "<style scoped>\n",
       "    .dataframe tbody tr th:only-of-type {\n",
       "        vertical-align: middle;\n",
       "    }\n",
       "\n",
       "    .dataframe tbody tr th {\n",
       "        vertical-align: top;\n",
       "    }\n",
       "\n",
       "    .dataframe thead th {\n",
       "        text-align: right;\n",
       "    }\n",
       "</style>\n",
       "<table border=\"1\" class=\"dataframe\">\n",
       "  <thead>\n",
       "    <tr style=\"text-align: right;\">\n",
       "      <th></th>\n",
       "      <th>wins</th>\n",
       "      <th>losses</th>\n",
       "      <th>portfolio</th>\n",
       "    </tr>\n",
       "  </thead>\n",
       "  <tbody>\n",
       "    <tr>\n",
       "      <th>0</th>\n",
       "      <td>18</td>\n",
       "      <td>32</td>\n",
       "      <td>8844.429071</td>\n",
       "    </tr>\n",
       "  </tbody>\n",
       "</table>\n",
       "</div>"
      ],
      "text/plain": [
       "   wins  losses    portfolio\n",
       "0    18      32  8844.429071"
      ]
     },
     "execution_count": 34,
     "metadata": {},
     "output_type": "execute_result"
    }
   ],
   "source": [
    "neutralperson.playing_n_times(50, European_roulette)"
   ]
  },
  {
   "cell_type": "markdown",
   "id": "3bea41f9",
   "metadata": {},
   "source": [
    "We skip the poorperson simulation for brevity as it is similar to the neutral person in the sense that they place similar bets. Finally we see the drunkpersons night."
   ]
  },
  {
   "cell_type": "code",
   "execution_count": 35,
   "id": "33200b87",
   "metadata": {},
   "outputs": [
    {
     "name": "stdout",
     "output_type": "stream",
     "text": [
      "bet placed: 28 outcome: 33\n",
      "bet placed: red outcome: 22\n",
      "bet placed: red outcome: 8\n",
      "bet placed: even outcome: 20\n",
      "bet placed: 36 outcome: 33\n"
     ]
    },
    {
     "data": {
      "text/html": [
       "<div>\n",
       "<style scoped>\n",
       "    .dataframe tbody tr th:only-of-type {\n",
       "        vertical-align: middle;\n",
       "    }\n",
       "\n",
       "    .dataframe tbody tr th {\n",
       "        vertical-align: top;\n",
       "    }\n",
       "\n",
       "    .dataframe thead th {\n",
       "        text-align: right;\n",
       "    }\n",
       "</style>\n",
       "<table border=\"1\" class=\"dataframe\">\n",
       "  <thead>\n",
       "    <tr style=\"text-align: right;\">\n",
       "      <th></th>\n",
       "      <th>wins</th>\n",
       "      <th>losses</th>\n",
       "      <th>portfolio</th>\n",
       "    </tr>\n",
       "  </thead>\n",
       "  <tbody>\n",
       "    <tr>\n",
       "      <th>0</th>\n",
       "      <td>1</td>\n",
       "      <td>4</td>\n",
       "      <td>9702.019701</td>\n",
       "    </tr>\n",
       "  </tbody>\n",
       "</table>\n",
       "</div>"
      ],
      "text/plain": [
       "   wins  losses    portfolio\n",
       "0     1       4  9702.019701"
      ]
     },
     "execution_count": 35,
     "metadata": {},
     "output_type": "execute_result"
    }
   ],
   "source": [
    "drunkperson.playing_n_times(5, European_roulette)"
   ]
  },
  {
   "cell_type": "code",
   "execution_count": 36,
   "id": "224b556e",
   "metadata": {},
   "outputs": [
    {
     "name": "stdout",
     "output_type": "stream",
     "text": [
      "bet placed: odd outcome: 21\n",
      "bet placed: black outcome: 2\n",
      "bet placed: first_twelve outcome: 16\n",
      "bet placed: third_twelve outcome: 5\n",
      "bet placed: even outcome: 14\n",
      "bet placed: first_twelve outcome: 31\n",
      "bet placed: red outcome: 32\n",
      "bet placed: second_twelve outcome: 7\n",
      "bet placed: second_twelve outcome: 25\n",
      "bet placed: odd outcome: 16\n",
      "bet placed: red outcome: 14\n",
      "bet placed: second_twelve outcome: 23\n",
      "bet placed: third_twelve outcome: 22\n",
      "bet placed: even outcome: 17\n",
      "bet placed: red outcome: 27\n",
      "bet placed: third_twelve outcome: 12\n",
      "bet placed: first_twelve outcome: 5\n",
      "bet placed: odd outcome: 28\n",
      "bet placed: odd outcome: 3\n",
      "bet placed: even outcome: 34\n",
      "bet placed: odd outcome: 34\n",
      "bet placed: even outcome: 35\n",
      "bet placed: black outcome: 11\n",
      "bet placed: even outcome: 19\n",
      "bet placed: black outcome: 35\n",
      "bet placed: black outcome: 11\n",
      "bet placed: third_twelve outcome: 35\n",
      "bet placed: odd outcome: 20\n",
      "bet placed: odd outcome: 24\n",
      "bet placed: odd outcome: 9\n"
     ]
    },
    {
     "data": {
      "text/html": [
       "<div>\n",
       "<style scoped>\n",
       "    .dataframe tbody tr th:only-of-type {\n",
       "        vertical-align: middle;\n",
       "    }\n",
       "\n",
       "    .dataframe tbody tr th {\n",
       "        vertical-align: top;\n",
       "    }\n",
       "\n",
       "    .dataframe thead th {\n",
       "        text-align: right;\n",
       "    }\n",
       "</style>\n",
       "<table border=\"1\" class=\"dataframe\">\n",
       "  <thead>\n",
       "    <tr style=\"text-align: right;\">\n",
       "      <th></th>\n",
       "      <th>wins</th>\n",
       "      <th>losses</th>\n",
       "      <th>portfolio</th>\n",
       "    </tr>\n",
       "  </thead>\n",
       "  <tbody>\n",
       "    <tr>\n",
       "      <th>0</th>\n",
       "      <td>15</td>\n",
       "      <td>15</td>\n",
       "      <td>10590.002886</td>\n",
       "    </tr>\n",
       "  </tbody>\n",
       "</table>\n",
       "</div>"
      ],
      "text/plain": [
       "   wins  losses     portfolio\n",
       "0    15      15  10590.002886"
      ]
     },
     "execution_count": 36,
     "metadata": {},
     "output_type": "execute_result"
    }
   ],
   "source": [
    "drunkperson.playing_n_times(30, European_roulette)"
   ]
  },
  {
   "cell_type": "code",
   "execution_count": 12,
   "id": "4097a7f7",
   "metadata": {},
   "outputs": [
    {
     "data": {
      "text/html": [
       "<div>\n",
       "<style scoped>\n",
       "    .dataframe tbody tr th:only-of-type {\n",
       "        vertical-align: middle;\n",
       "    }\n",
       "\n",
       "    .dataframe tbody tr th {\n",
       "        vertical-align: top;\n",
       "    }\n",
       "\n",
       "    .dataframe thead th {\n",
       "        text-align: right;\n",
       "    }\n",
       "</style>\n",
       "<table border=\"1\" class=\"dataframe\">\n",
       "  <thead>\n",
       "    <tr style=\"text-align: right;\">\n",
       "      <th></th>\n",
       "      <th>wins</th>\n",
       "      <th>losses</th>\n",
       "      <th>portfolio</th>\n",
       "    </tr>\n",
       "  </thead>\n",
       "  <tbody>\n",
       "    <tr>\n",
       "      <th>0</th>\n",
       "      <td>32</td>\n",
       "      <td>68</td>\n",
       "      <td>7656.961233</td>\n",
       "    </tr>\n",
       "  </tbody>\n",
       "</table>\n",
       "</div>"
      ],
      "text/plain": [
       "   wins  losses    portfolio\n",
       "0    32      68  7656.961233"
      ]
     },
     "execution_count": 12,
     "metadata": {},
     "output_type": "execute_result"
    }
   ],
   "source": [
    "drunkperson.playing_n_times(100, European_roulette)"
   ]
  },
  {
   "cell_type": "markdown",
   "id": "9b2f695e",
   "metadata": {},
   "source": [
    "## Conclusion"
   ]
  },
  {
   "cell_type": "markdown",
   "id": "47a1de03",
   "metadata": {},
   "source": [
    "Although these portfolios at the end of the night do demonstrate the random nature of a simple random walk on a line, it is worth noting that since the probability of winning is always less then 49% as n tends to infinity, By the theory behind gamblers ruin, you will go broke at some point. In our case our portfolios would tend towards zero because of the way we are always using 1% of our portfolios, however in a real situation at some point we would be under the minimum bet on the table and hence we would be broke. The following code demonstrates this idea, if you allow the printing to finish and scroll to the end you will see the portfolio being extremely low while n is high. the disparity between wins and losses is high enough to cause the player to go broke."
   ]
  },
  {
   "cell_type": "code",
   "execution_count": 8,
   "id": "3c96769c",
   "metadata": {},
   "outputs": [
    {
     "data": {
      "text/html": [
       "<div>\n",
       "<style scoped>\n",
       "    .dataframe tbody tr th:only-of-type {\n",
       "        vertical-align: middle;\n",
       "    }\n",
       "\n",
       "    .dataframe tbody tr th {\n",
       "        vertical-align: top;\n",
       "    }\n",
       "\n",
       "    .dataframe thead th {\n",
       "        text-align: right;\n",
       "    }\n",
       "</style>\n",
       "<table border=\"1\" class=\"dataframe\">\n",
       "  <thead>\n",
       "    <tr style=\"text-align: right;\">\n",
       "      <th></th>\n",
       "      <th>wins</th>\n",
       "      <th>losses</th>\n",
       "      <th>portfolio</th>\n",
       "    </tr>\n",
       "  </thead>\n",
       "  <tbody>\n",
       "    <tr>\n",
       "      <th>0</th>\n",
       "      <td>4807</td>\n",
       "      <td>5193</td>\n",
       "      <td>1.32672</td>\n",
       "    </tr>\n",
       "  </tbody>\n",
       "</table>\n",
       "</div>"
      ],
      "text/plain": [
       "   wins  losses  portfolio\n",
       "0  4807    5193    1.32672"
      ]
     },
     "execution_count": 8,
     "metadata": {},
     "output_type": "execute_result"
    }
   ],
   "source": [
    "poorperson.playing_n_times(10000, European_roulette)"
   ]
  },
  {
   "cell_type": "markdown",
   "id": "46dd42f4",
   "metadata": {},
   "source": [
    "Thanks for reading my small project!  i hope it all made sense"
   ]
  },
  {
   "cell_type": "markdown",
   "id": "7a0499ea",
   "metadata": {},
   "source": [
    "if you have any questions please email me at callumhurd@hotmail.co.uk"
   ]
  },
  {
   "cell_type": "code",
   "execution_count": null,
   "id": "75474998",
   "metadata": {},
   "outputs": [],
   "source": []
  }
 ],
 "metadata": {
  "kernelspec": {
   "display_name": "Python 3 (ipykernel)",
   "language": "python",
   "name": "python3"
  },
  "language_info": {
   "codemirror_mode": {
    "name": "ipython",
    "version": 3
   },
   "file_extension": ".py",
   "mimetype": "text/x-python",
   "name": "python",
   "nbconvert_exporter": "python",
   "pygments_lexer": "ipython3",
   "version": "3.9.17"
  }
 },
 "nbformat": 4,
 "nbformat_minor": 5
}
